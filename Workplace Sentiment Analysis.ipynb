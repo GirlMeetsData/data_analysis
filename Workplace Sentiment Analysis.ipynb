{
 "cells": [
  {
   "cell_type": "code",
   "execution_count": 9,
   "metadata": {},
   "outputs": [],
   "source": [
    "import pandas as pd\n",
    "import time\n",
    "from nltk.sentiment import SentimentIntensityAnalyzer\n",
    "\n",
    "# to communicate with Google BigQuery\n",
    "from pandas.io import gbq"
   ]
  },
  {
   "cell_type": "code",
   "execution_count": 63,
   "metadata": {},
   "outputs": [],
   "source": [
    "workplace_messages = pd.read_csv('/Users/brit.cava/Desktop/workplacemessages.csv')\n",
    "text = workplace_messages['message']\n",
    "words = []\n",
    "scores = []\n",
    "\n",
    "for word in text:\n",
    "    words.append(word)\n",
    "    ss = sid.polarity_scores(word)\n",
    "    scores.append(ss['compound'])\n",
    "    \n",
    "for i in range(len(words)):\n",
    "    word_score_dict[words[i]] = scores[i]"
   ]
  },
  {
   "cell_type": "code",
   "execution_count": 69,
   "metadata": {
    "collapsed": true
   },
   "outputs": [],
   "source": [
    "results = pd.DataFrame(list(word_score_dict.items()), columns=['message','score'])\n",
    "\n",
    "workplace_messages_sentiment = workplace_messages.merge(results, left_on='message', right_on='message', how='left')\n",
    "\n",
    "workplace_messages_sentiment.to_csv(\"/Users/brit.cava/Desktop/OneDrive - Slalom/Workplace Analytics/Workplace_Sentiment.csv\", index=False, columns=('post_id','message','score'))"
   ]
  },
  {
   "cell_type": "code",
   "execution_count": 68,
   "metadata": {},
   "outputs": [
    {
     "data": {
      "text/html": [
       "<div>\n",
       "<style scoped>\n",
       "    .dataframe tbody tr th:only-of-type {\n",
       "        vertical-align: middle;\n",
       "    }\n",
       "\n",
       "    .dataframe tbody tr th {\n",
       "        vertical-align: top;\n",
       "    }\n",
       "\n",
       "    .dataframe thead th {\n",
       "        text-align: right;\n",
       "    }\n",
       "</style>\n",
       "<table border=\"1\" class=\"dataframe\">\n",
       "  <thead>\n",
       "    <tr style=\"text-align: right;\">\n",
       "      <th></th>\n",
       "      <th>post_id</th>\n",
       "      <th>message</th>\n",
       "      <th>score</th>\n",
       "    </tr>\n",
       "  </thead>\n",
       "  <tbody>\n",
       "    <tr>\n",
       "      <th>1012</th>\n",
       "      <td>708531135998589_726066764245026</td>\n",
       "      <td>None</td>\n",
       "      <td>0.0000</td>\n",
       "    </tr>\n",
       "    <tr>\n",
       "      <th>4</th>\n",
       "      <td>154802248471960_163024854316366</td>\n",
       "      <td>I've got a Hololens Dev Edition that I bought ...</td>\n",
       "      <td>0.0000</td>\n",
       "    </tr>\n",
       "    <tr>\n",
       "      <th>1965</th>\n",
       "      <td>513038529047365_534130530271498</td>\n",
       "      <td>Happy FOUR YEAR Slalomversary to Alberto Monta...</td>\n",
       "      <td>0.6114</td>\n",
       "    </tr>\n",
       "    <tr>\n",
       "      <th>379</th>\n",
       "      <td>530799297073435_898677333618961</td>\n",
       "      <td>About a week left until Octoberfest in my back...</td>\n",
       "      <td>0.6124</td>\n",
       "    </tr>\n",
       "    <tr>\n",
       "      <th>902</th>\n",
       "      <td>513038529047365_579323639085520</td>\n",
       "      <td>The extent of my Seattle sightseeing during NE...</td>\n",
       "      <td>0.0000</td>\n",
       "    </tr>\n",
       "  </tbody>\n",
       "</table>\n",
       "</div>"
      ],
      "text/plain": [
       "                              post_id  \\\n",
       "1012  708531135998589_726066764245026   \n",
       "4     154802248471960_163024854316366   \n",
       "1965  513038529047365_534130530271498   \n",
       "379   530799297073435_898677333618961   \n",
       "902   513038529047365_579323639085520   \n",
       "\n",
       "                                                message   score  \n",
       "1012                                               None  0.0000  \n",
       "4     I've got a Hololens Dev Edition that I bought ...  0.0000  \n",
       "1965  Happy FOUR YEAR Slalomversary to Alberto Monta...  0.6114  \n",
       "379   About a week left until Octoberfest in my back...  0.6124  \n",
       "902   The extent of my Seattle sightseeing during NE...  0.0000  "
      ]
     },
     "execution_count": 68,
     "metadata": {},
     "output_type": "execute_result"
    }
   ],
   "source": [
    "workplace_messages_sentiment.sample(n=5)"
   ]
  }
 ],
 "metadata": {
  "kernelspec": {
   "display_name": "Python 3",
   "language": "python",
   "name": "python3"
  },
  "language_info": {
   "codemirror_mode": {
    "name": "ipython",
    "version": 3
   },
   "file_extension": ".py",
   "mimetype": "text/x-python",
   "name": "python",
   "nbconvert_exporter": "python",
   "pygments_lexer": "ipython3",
   "version": "3.6.3"
  }
 },
 "nbformat": 4,
 "nbformat_minor": 2
}
